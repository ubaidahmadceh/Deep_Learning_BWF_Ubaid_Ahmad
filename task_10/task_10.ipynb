{
 "cells": [
  {
   "attachments": {},
   "cell_type": "markdown",
   "metadata": {},
   "source": [
    "## 1D Array"
   ]
  },
  {
   "cell_type": "code",
   "execution_count": 6,
   "metadata": {},
   "outputs": [
    {
     "name": "stdout",
     "output_type": "stream",
     "text": [
      "[5 7 9 3 6]\n",
      "1\n",
      "(5,)\n",
      "5\n"
     ]
    }
   ],
   "source": [
    "import numpy as np\n",
    "my_1d_arr = np.array([5, 7, 9, 3, 6])\n",
    "print(my_1d_arr)\n",
    "print(my_1d_arr.ndim)\n",
    "print(my_1d_arr.shape)\n",
    "print(my_1d_arr.size)"
   ]
  },
  {
   "attachments": {},
   "cell_type": "markdown",
   "metadata": {},
   "source": [
    "## Multidimentional Array"
   ]
  },
  {
   "cell_type": "code",
   "execution_count": 13,
   "metadata": {},
   "outputs": [
    {
     "name": "stdout",
     "output_type": "stream",
     "text": [
      "[[10  1  2  3]\n",
      " [ 4  5  6  7]]\n",
      "2\n",
      "(2, 4)\n",
      "8\n"
     ]
    }
   ],
   "source": [
    "multi_d_arr = np.array([[10, 1, 2, 3], [4, 5, 6, 7]])\n",
    "                          \n",
    "print(multi_d_arr)\n",
    "print(multi_d_arr.ndim)\n",
    "print(multi_d_arr.shape)\n",
    "print(multi_d_arr.size)"
   ]
  },
  {
   "attachments": {},
   "cell_type": "markdown",
   "metadata": {},
   "source": [
    "## Arithmetic operations"
   ]
  },
  {
   "cell_type": "code",
   "execution_count": 14,
   "metadata": {},
   "outputs": [
    {
     "name": "stdout",
     "output_type": "stream",
     "text": [
      "[[50  5 10 15]\n",
      " [20 25 30 35]]\n",
      "[[60  6 12 18]\n",
      " [24 30 36 42]]\n",
      "[[-40  -4  -8 -12]\n",
      " [-16 -20 -24 -28]]\n",
      "[[500   5  20  45]\n",
      " [ 80 125 180 245]]\n",
      "[[0.2 0.2 0.2 0.2]\n",
      " [0.2 0.2 0.2 0.2]]\n"
     ]
    }
   ],
   "source": [
    "multi_d_arr_modified = multi_d_arr*5\n",
    "print(multi_d_arr_modified)\n",
    "print(multi_d_arr+multi_d_arr_modified)\n",
    "print(multi_d_arr-multi_d_arr_modified)\n",
    "print(multi_d_arr*multi_d_arr_modified)\n",
    "print(multi_d_arr/multi_d_arr_modified)"
   ]
  }
 ],
 "metadata": {
  "kernelspec": {
   "display_name": "Python 3",
   "language": "python",
   "name": "python3"
  },
  "language_info": {
   "codemirror_mode": {
    "name": "ipython",
    "version": 3
   },
   "file_extension": ".py",
   "mimetype": "text/x-python",
   "name": "python",
   "nbconvert_exporter": "python",
   "pygments_lexer": "ipython3",
   "version": "3.11.1"
  },
  "orig_nbformat": 4
 },
 "nbformat": 4,
 "nbformat_minor": 2
}
