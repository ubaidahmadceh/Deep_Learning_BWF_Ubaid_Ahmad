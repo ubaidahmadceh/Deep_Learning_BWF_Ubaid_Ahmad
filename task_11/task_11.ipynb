{
 "cells": [
  {
   "cell_type": "code",
   "execution_count": 5,
   "metadata": {},
   "outputs": [
    {
     "name": "stdout",
     "output_type": "stream",
     "text": [
      "[71 29 73 39 36 93 51 96 86 94 94 66  6 41 30]\n"
     ]
    }
   ],
   "source": [
    "# generating random data, assuming these are marks of 15 students in a class\n",
    "import numpy as np\n",
    "data = np.array([71, 29, 73, 39, 36, 93, 51, 96, 86, 94, 94, 66, 6, 41, 30])\n",
    "print(data)"
   ]
  },
  {
   "cell_type": "code",
   "execution_count": 6,
   "metadata": {},
   "outputs": [
    {
     "name": "stdout",
     "output_type": "stream",
     "text": [
      "Mean of data (Average marks) = 60.333333333333336 \n",
      "\n",
      "Median of data = 66.0 \n",
      "\n",
      "Mode of data = 94 \n",
      "\n",
      "Rank of every element in data = [ 9.   2.  10.   5.   4.  12.   7.  15.  11.  13.5 13.5  8.   1.   6.\n",
      "  3. ] \n",
      "\n",
      "Q2 quantile of arr: 66.0 \n",
      "\n",
      "Q1 quantile of arr: 37.5 \n",
      "\n",
      "Q3 quantile of arr: 89.5 \n",
      "\n",
      "100th quantile of arr: 29.4 \n",
      "\n"
     ]
    }
   ],
   "source": [
    "print(f\"Mean of data (Average marks) = {data.mean()} \\n\")\n",
    "\n",
    "print(f\"Median of data = {np.median(data)} \\n\")\n",
    "\n",
    "import statistics as st\n",
    "print(f\"Mode of data = {st.mode(data)} \\n\")\n",
    "\n",
    "from scipy.stats import rankdata\n",
    "print(f\"Rank of every element in data = {rankdata(data)} \\n\")\n",
    "\n",
    "print(f\"Q2 quantile of arr: {np.quantile(data, .50)} \\n\")\n",
    "print(f\"Q1 quantile of arr: {np.quantile(data, .25)} \\n\")\n",
    "print(f\"Q3 quantile of arr: {np.quantile(data, .75)} \\n\")\n",
    "print(f\"100th quantile of arr: {np.quantile(data, .1)} \\n\")"
   ]
  },
  {
   "attachments": {},
   "cell_type": "markdown",
   "metadata": {},
   "source": [
    "# Probability Distributions\n",
    "\n",
    "A Probability Distributions describe the possible outcomes \n",
    "\n",
    "- Discrete probability distributions\n",
    "- Continuous probability distributions\n",
    "\n",
    "Normal distribution, chi-square distribution, binomial distribution, poisson distribution, and uniform distribution are most common and used types of prbability distributions\n"
   ]
  },
  {
   "cell_type": "code",
   "execution_count": 3,
   "metadata": {},
   "outputs": [
    {
     "name": "stdout",
     "output_type": "stream",
     "text": [
      "Random Vars From Normal Distribution = [0.36130867 0.44142579 0.3633945  0.36732495 0.33478237 0.37435094\n",
      " 0.48141378 0.64115297 0.57259557 0.46679196] \n",
      "\n",
      "Random Vars From Normal Distribution = [4 4 3 2 4 8 6 5 5 6]\n"
     ]
    }
   ],
   "source": [
    "mu, sigma = 0.5, 0.1\n",
    "random_vars_from_normal_dist = np.random.normal(mu, sigma, 10)\n",
    "print(f\"Random Vars From Normal Distribution = {random_vars_from_normal_dist} \\n\")\n",
    "\n",
    "random_vars_from_binomial_dist = np.random.binomial(n=10, p=0.5, size=10)\n",
    "print(f\"Random Vars From Normal Distribution = {random_vars_from_binomial_dist}\")"
   ]
  }
 ],
 "metadata": {
  "kernelspec": {
   "display_name": "Python 3",
   "language": "python",
   "name": "python3"
  },
  "language_info": {
   "codemirror_mode": {
    "name": "ipython",
    "version": 3
   },
   "file_extension": ".py",
   "mimetype": "text/x-python",
   "name": "python",
   "nbconvert_exporter": "python",
   "pygments_lexer": "ipython3",
   "version": "3.11.1"
  },
  "orig_nbformat": 4
 },
 "nbformat": 4,
 "nbformat_minor": 2
}
