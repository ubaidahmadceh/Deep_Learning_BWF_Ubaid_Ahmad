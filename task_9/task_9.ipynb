{
 "cells": [
  {
   "attachments": {},
   "cell_type": "markdown",
   "metadata": {},
   "source": [
    "## Reading content of file"
   ]
  },
  {
   "cell_type": "code",
   "execution_count": 1,
   "metadata": {},
   "outputs": [
    {
     "name": "stdout",
     "output_type": "stream",
     "text": [
      "Pakistan\n",
      "India\n",
      "Bangladesh\n",
      "Sirilanka\n",
      "America\n"
     ]
    }
   ],
   "source": [
    "file_opener = open('file.txt', 'r')\n",
    "print(file_opener.read())"
   ]
  },
  {
   "attachments": {},
   "cell_type": "markdown",
   "metadata": {},
   "source": [
    "## Coverting File Content Into List"
   ]
  },
  {
   "cell_type": "code",
   "execution_count": 2,
   "metadata": {},
   "outputs": [
    {
     "name": "stdout",
     "output_type": "stream",
     "text": [
      "['Pakistan', 'India', 'Bangladesh', 'Sirilanka', 'America']\n"
     ]
    }
   ],
   "source": [
    "file_opener = open('file.txt', 'r') \n",
    "\n",
    "read_line_by_line = file_opener.readlines()\n",
    "\n",
    "countries_list = []\n",
    "\n",
    "for line in read_line_by_line:\n",
    "    countries_list.append(line.strip())\n",
    "\n",
    "print(countries_list)"
   ]
  },
  {
   "attachments": {},
   "cell_type": "markdown",
   "metadata": {},
   "source": [
    "## Writing in file "
   ]
  },
  {
   "cell_type": "code",
   "execution_count": 4,
   "metadata": {},
   "outputs": [],
   "source": [
    "file_opener = open(\"file_2.txt\", \"w\")\n",
    "file_opener.write(\"Adding some content\")\n",
    "file_opener.close()"
   ]
  },
  {
   "cell_type": "code",
   "execution_count": 5,
   "metadata": {},
   "outputs": [
    {
     "name": "stdout",
     "output_type": "stream",
     "text": [
      "Adding some content\n"
     ]
    }
   ],
   "source": [
    "file_opener = open('file_2.txt', 'r')\n",
    "print(file_opener.read())"
   ]
  },
  {
   "attachments": {},
   "cell_type": "markdown",
   "metadata": {},
   "source": [
    "## Try, Except & Finally"
   ]
  },
  {
   "attachments": {},
   "cell_type": "markdown",
   "metadata": {},
   "source": [
    "### creating a username validator"
   ]
  },
  {
   "cell_type": "code",
   "execution_count": 9,
   "metadata": {},
   "outputs": [
    {
     "name": "stdout",
     "output_type": "stream",
     "text": [
      "['Ubaid']\n",
      "Execution Completed\n"
     ]
    }
   ],
   "source": [
    "# Condition we want to satisfy: username has to alphabets and atleast 3 characters\n",
    "\n",
    "list = []\n",
    "def users_name():\n",
    "    while True: # Never ending loop\n",
    "        try:\n",
    "            name = str(input(\"Please enter your first name: \"))\n",
    "            if (len(name) > 2 and name.isalpha()):\n",
    "                list.append(name)\n",
    "                print(list)\n",
    "                break\n",
    "            else:\n",
    "                raise TypeError\n",
    "        except TypeError:\n",
    "            print(\"Letters only please.\")\n",
    "            break # This causes it to continue\n",
    "        except EOFError:\n",
    "            print(\"Please input something....\")\n",
    "            break # This causes it to continue\n",
    "        finally:\n",
    "            print(\"Execution Completed\")\n",
    "\n",
    "users_name()"
   ]
  }
 ],
 "metadata": {
  "kernelspec": {
   "display_name": "Python 3",
   "language": "python",
   "name": "python3"
  },
  "language_info": {
   "codemirror_mode": {
    "name": "ipython",
    "version": 3
   },
   "file_extension": ".py",
   "mimetype": "text/x-python",
   "name": "python",
   "nbconvert_exporter": "python",
   "pygments_lexer": "ipython3",
   "version": "3.11.1"
  },
  "orig_nbformat": 4
 },
 "nbformat": 4,
 "nbformat_minor": 2
}
