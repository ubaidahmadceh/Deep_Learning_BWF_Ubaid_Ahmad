{
 "cells": [
  {
   "attachments": {},
   "cell_type": "markdown",
   "metadata": {},
   "source": [
    "### Supervised Learning:\n",
    "A type of machine learning where the model is trained on labeled data, meaning it is provided with input-output pairs and learns to map inputs to outputs.\n",
    "\n",
    "### Unsupervised Learning:\n",
    "A type of machine learning where the model is trained on unlabeled data, meaning it is not given any explicit output information, but instead learns patterns and relationships in the input data.\n",
    "\n",
    "### Self-Supervised Learning:\n",
    "A type of machine learning where the model is trained on pretext tasks, which are essentially supervised learning tasks created from the input data itself, such as predicting a missing portion of an image or audio clip.\n",
    "\n",
    "### Reinforcement Learning:\n",
    "A type of machine learning where the model learns to take actions in an environment to maximize a reward signal, with the goal of learning an optimal policy for making decisions in that environment."
   ]
  }
 ],
 "metadata": {
  "language_info": {
   "name": "python"
  },
  "orig_nbformat": 4
 },
 "nbformat": 4,
 "nbformat_minor": 2
}
