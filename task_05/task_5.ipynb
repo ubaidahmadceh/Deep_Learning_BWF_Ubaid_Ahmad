{
 "cells": [
  {
   "attachments": {},
   "cell_type": "markdown",
   "metadata": {},
   "source": [
    "## Conditional Statements"
   ]
  },
  {
   "cell_type": "code",
   "execution_count": 1,
   "metadata": {},
   "outputs": [
    {
     "name": "stdout",
     "output_type": "stream",
     "text": [
      "wait for a year!\n"
     ]
    }
   ],
   "source": [
    "age = 17\n",
    "\n",
    "if age > 18:\n",
    "    print(\"You can drink! but try to be in limits :)\")\n",
    "elif age == 17:\n",
    "    print(\"wait for a year!\")\n",
    "else:\n",
    "    print(\"No drinking!!!\") "
   ]
  },
  {
   "attachments": {},
   "cell_type": "markdown",
   "metadata": {},
   "source": [
    "## Enumerate"
   ]
  },
  {
   "cell_type": "code",
   "execution_count": 2,
   "metadata": {},
   "outputs": [
    {
     "name": "stdout",
     "output_type": "stream",
     "text": [
      "[(0, 'mangoes'), (1, 'oranges'), (2, 'apples')]\n",
      "(0, 'mangoes')\n",
      "(1, 'oranges')\n",
      "(2, 'apples')\n"
     ]
    }
   ],
   "source": [
    "fruit_list = [\"mangoes\", \"oranges\", \"apples\"]\n",
    "\n",
    "# enumerate will attach an index value to every element in list\n",
    "fruit_list_with_indexes = list(enumerate(fruit_list))\n",
    "\n",
    "print(fruit_list_with_indexes)\n",
    "print(fruit_list_with_indexes[0])\n",
    "print(fruit_list_with_indexes[1])\n",
    "print(fruit_list_with_indexes[2])\n"
   ]
  },
  {
   "attachments": {},
   "cell_type": "markdown",
   "metadata": {},
   "source": [
    "## Sets"
   ]
  },
  {
   "cell_type": "code",
   "execution_count": 3,
   "metadata": {},
   "outputs": [
    {
     "name": "stdout",
     "output_type": "stream",
     "text": [
      "{'apples', 'oranges', 'mangoes'}\n",
      "{'apples', 'oranges', 'mangoes'}\n",
      "---------------------\n",
      "{8, 10, 15}\n"
     ]
    }
   ],
   "source": [
    "# Making Data Unique with Sets\n",
    "fruit_set = {\"mangoes\", \"oranges\", \"apples\", \"apples\"} # apple is present but set will automatically make it unique\n",
    "print(fruit_set)\n",
    "\n",
    "# it doesn't support indexing\n",
    "# print(fruit_set[0])\n",
    "# print(fruit_set[1])\n",
    "# print(fruit_set[2])\n",
    "\n",
    "# using set() to create a set\n",
    "fruit_set_new = set([\"mangoes\", \"oranges\", \"apples\"])\n",
    "print(fruit_set_new)\n",
    "print(\"---------------------\")\n",
    "\n",
    "# it doesn't support append\n",
    "# fruit_set_new.append(\"gauva\")\n",
    "# print(fruit_set_new)\n",
    "# print(\"---------------------\")\n",
    "\n",
    "# fruit_set_new.remove(\"apples\")\n",
    "# print(fruit_set_new)\n",
    "# print(\"---------------------\")\n",
    "\n",
    "# it orders things automatically\n",
    "num_set = {15, 8, 10, 10}\n",
    "print(num_set)"
   ]
  },
  {
   "attachments": {},
   "cell_type": "markdown",
   "metadata": {},
   "source": [
    "## Union, Intersection, Difference, Symmetric Difference in Sets"
   ]
  },
  {
   "cell_type": "code",
   "execution_count": 5,
   "metadata": {},
   "outputs": [
    {
     "name": "stdout",
     "output_type": "stream",
     "text": [
      "Union = {16, 20, 8, 10, 30, 15}\n",
      "Intersection = set()\n",
      "Difference = {8, 10, 15}\n",
      "Symmetric difference = {8, 10, 15, 16, 20, 30}\n"
     ]
    }
   ],
   "source": [
    "num_set_1 = {15, 8, 10, 10}\n",
    "num_set_2 = {30, 16, 20, 20}\n",
    "  \n",
    "# Computing Union through sets\n",
    "print(f\"Union = {num_set_1 | num_set_2}\")\n",
    "  \n",
    "# Computing intersection through sets\n",
    "print(f\"Intersection = {num_set_1 & num_set_2}\")\n",
    "  \n",
    "# Computing difference through sets\n",
    "print(f\"Difference = {num_set_1 - num_set_2}\")\n",
    "  \n",
    "# Computing symmetric difference through sets\n",
    "print(f\"Symmetric difference = {num_set_1 ^ num_set_2}\")"
   ]
  },
  {
   "attachments": {},
   "cell_type": "markdown",
   "metadata": {},
   "source": [
    "## Timing your code"
   ]
  },
  {
   "cell_type": "code",
   "execution_count": 8,
   "metadata": {},
   "outputs": [
    {
     "name": "stdout",
     "output_type": "stream",
     "text": [
      "Total time elapsed: 0.01399087905883789\n"
     ]
    }
   ],
   "source": [
    "import time\n",
    "\n",
    "start = time.time()\n",
    "\n",
    "num_list = []\n",
    "for i in range(10000):\n",
    "    num_list.append(i*i*i*i*i*i)\n",
    "\n",
    "end = time.time()\n",
    "\n",
    "print(f\"Total time elapsed: {end-start}\")"
   ]
  },
  {
   "attachments": {},
   "cell_type": "markdown",
   "metadata": {},
   "source": [
    "## Taking user input"
   ]
  },
  {
   "cell_type": "code",
   "execution_count": 9,
   "metadata": {},
   "outputs": [
    {
     "name": "stdout",
     "output_type": "stream",
     "text": [
      "wait for a year!\n"
     ]
    }
   ],
   "source": [
    "age = int(input(\"Enter you age: \"))\n",
    "\n",
    "if age > 18:\n",
    "    print(\"You can drink! but try to be in limits :)\")\n",
    "elif age == 17:\n",
    "    print(\"wait for a year!\")\n",
    "else:\n",
    "    print(\"No drinking!!!\") "
   ]
  }
 ],
 "metadata": {
  "kernelspec": {
   "display_name": "Python 3",
   "language": "python",
   "name": "python3"
  },
  "language_info": {
   "codemirror_mode": {
    "name": "ipython",
    "version": 3
   },
   "file_extension": ".py",
   "mimetype": "text/x-python",
   "name": "python",
   "nbconvert_exporter": "python",
   "pygments_lexer": "ipython3",
   "version": "3.11.1"
  },
  "orig_nbformat": 4
 },
 "nbformat": 4,
 "nbformat_minor": 2
}
