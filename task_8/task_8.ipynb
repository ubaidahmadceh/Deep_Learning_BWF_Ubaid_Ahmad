{
 "cells": [
  {
   "attachments": {},
   "cell_type": "markdown",
   "metadata": {},
   "source": [
    "## Creating a class and object "
   ]
  },
  {
   "cell_type": "code",
   "execution_count": 2,
   "metadata": {},
   "outputs": [
    {
     "name": "stdout",
     "output_type": "stream",
     "text": [
      "Fruit name is : Apple\n"
     ]
    }
   ],
   "source": [
    "class My_class:\n",
    "    def __init__(self):\n",
    "        self.fruit = \"Apple\"\n",
    "\n",
    "    def show_fruit(self):\n",
    "        return f\"Fruit name is : {self.fruit}\"\n",
    "\n",
    "my_object = My_class()\n",
    "print(my_object.show_fruit())"
   ]
  },
  {
   "attachments": {},
   "cell_type": "markdown",
   "metadata": {},
   "source": [
    "# Inheritence"
   ]
  },
  {
   "cell_type": "code",
   "execution_count": 3,
   "metadata": {},
   "outputs": [
    {
     "name": "stdout",
     "output_type": "stream",
     "text": [
      "Fruit name is : Apple\n"
     ]
    }
   ],
   "source": [
    "class My_parent_class:\n",
    "    def __init__(self):\n",
    "        self.fruit = \"Apple\"\n",
    "\n",
    "    def show_fruit(self):\n",
    "        return f\"Fruit name is : {self.fruit}\"\n",
    "    \n",
    "class My_child_class(My_parent_class):\n",
    "    pass\n",
    "\n",
    "my_object_inherited = My_child_class()\n",
    "print(my_object_inherited.show_fruit())"
   ]
  }
 ],
 "metadata": {
  "kernelspec": {
   "display_name": "Python 3",
   "language": "python",
   "name": "python3"
  },
  "language_info": {
   "codemirror_mode": {
    "name": "ipython",
    "version": 3
   },
   "file_extension": ".py",
   "mimetype": "text/x-python",
   "name": "python",
   "nbconvert_exporter": "python",
   "pygments_lexer": "ipython3",
   "version": "3.11.1"
  },
  "orig_nbformat": 4
 },
 "nbformat": 4,
 "nbformat_minor": 2
}
