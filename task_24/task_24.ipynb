{
 "cells": [
  {
   "attachments": {},
   "cell_type": "markdown",
   "metadata": {},
   "source": [
    "## Data Preprocessing\n",
    "### Machine Learning models only understand numbers so we have to modify our data accordingly. like if its in form of text we have to use label encoding or one hot encoding, if its in form of images we have to convert them into a numeric arrays so that ML or DL model can understand it. "
   ]
  },
  {
   "attachments": {},
   "cell_type": "markdown",
   "metadata": {},
   "source": [
    "## Feature Engineering\n",
    "### We use feature engineering to extract the main information from our data in a compact form so that model can find and understand patterns more easily. PCA (Principal Component Analysis) is of the technique we can use for this purpose"
   ]
  }
 ],
 "metadata": {
  "language_info": {
   "name": "python"
  },
  "orig_nbformat": 4
 },
 "nbformat": 4,
 "nbformat_minor": 2
}
