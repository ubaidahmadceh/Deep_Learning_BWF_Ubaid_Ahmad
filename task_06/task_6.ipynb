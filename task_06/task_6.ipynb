{
 "cells": [
  {
   "attachments": {},
   "cell_type": "markdown",
   "metadata": {},
   "source": [
    "## Dictionary"
   ]
  },
  {
   "cell_type": "code",
   "execution_count": 1,
   "metadata": {},
   "outputs": [
    {
     "name": "stdout",
     "output_type": "stream",
     "text": [
      "{'mangoes': 5, 'oranges': 10, 'apples': 15}\n",
      "------------------\n",
      "{'mangoes': 5, 'oranges': 10, 'apples': 15}\n",
      "------------------\n",
      "5\n",
      "10\n",
      "15\n",
      "------------------\n",
      "dict_keys(['mangoes', 'oranges', 'apples'])\n",
      "------------------\n",
      "{'mangoes': 5, 'oranges': 10, 'apples': 15, 'gauva': 20}\n",
      "{'mangoes': 5, 'oranges': 10, 'apples': 15}\n"
     ]
    }
   ],
   "source": [
    "fruit_dict = {\n",
    "    \"mangoes\" : 5,\n",
    "    \"oranges\" : 10,\n",
    "    \"apples\" : 15\n",
    "}\n",
    "print(fruit_dict)\n",
    "print(\"------------------\")\n",
    "\n",
    "# using dict() to create dictionary\n",
    "fruit_dict = dict({\"mangoes\" : 5, \"oranges\" : 10, \"apples\" : 15})\n",
    "print(fruit_dict)\n",
    "print(\"------------------\")\n",
    "\n",
    "# accessing values\n",
    "print(fruit_dict[\"mangoes\"])\n",
    "print(fruit_dict[\"oranges\"])\n",
    "print(fruit_dict[\"apples\"])\n",
    "print(\"------------------\")\n",
    "\n",
    "# accessing keys\n",
    "print(fruit_dict.keys())\n",
    "print(\"------------------\")\n",
    "\n",
    "# add a new key value pair\n",
    "fruit_dict[\"gauva\"] = 20\n",
    "print(fruit_dict)\n",
    "\n",
    "# remove a key value pair\n",
    "fruit_dict.pop(\"gauva\")\n",
    "print(fruit_dict)\n"
   ]
  }
 ],
 "metadata": {
  "kernelspec": {
   "display_name": "Python 3",
   "language": "python",
   "name": "python3"
  },
  "language_info": {
   "codemirror_mode": {
    "name": "ipython",
    "version": 3
   },
   "file_extension": ".py",
   "mimetype": "text/x-python",
   "name": "python",
   "nbconvert_exporter": "python",
   "pygments_lexer": "ipython3",
   "version": "3.11.1"
  },
  "orig_nbformat": 4
 },
 "nbformat": 4,
 "nbformat_minor": 2
}
