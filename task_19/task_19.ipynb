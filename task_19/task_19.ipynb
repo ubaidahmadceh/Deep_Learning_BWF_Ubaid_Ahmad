{
 "cells": [
  {
   "attachments": {},
   "cell_type": "markdown",
   "metadata": {},
   "source": [
    "## What is Deep Learning ?"
   ]
  },
  {
   "attachments": {},
   "cell_type": "markdown",
   "metadata": {},
   "source": [
    "### Deep learning is a approach of AI which use Neural Networks to solve AI related problems"
   ]
  },
  {
   "attachments": {},
   "cell_type": "markdown",
   "metadata": {},
   "source": [
    "## What is Neural Network ? "
   ]
  },
  {
   "attachments": {},
   "cell_type": "markdown",
   "metadata": {},
   "source": [
    "### Neural Network is a effort to mimic human brain"
   ]
  },
  {
   "attachments": {},
   "cell_type": "markdown",
   "metadata": {},
   "source": [
    "## A toy example of NN using Keras"
   ]
  },
  {
   "cell_type": "code",
   "execution_count": 1,
   "metadata": {},
   "outputs": [
    {
     "name": "stdout",
     "output_type": "stream",
     "text": [
      "Epoch 1/20\n",
      "32/32 [==============================] - 2s 4ms/step - loss: 0.6944 - accuracy: 0.5230\n",
      "Epoch 2/20\n",
      "32/32 [==============================] - 0s 4ms/step - loss: 0.6916 - accuracy: 0.5320\n",
      "Epoch 3/20\n",
      "32/32 [==============================] - 0s 4ms/step - loss: 0.6907 - accuracy: 0.5310\n",
      "Epoch 4/20\n",
      "32/32 [==============================] - 0s 4ms/step - loss: 0.6896 - accuracy: 0.5280\n",
      "Epoch 5/20\n",
      "32/32 [==============================] - 0s 5ms/step - loss: 0.6889 - accuracy: 0.5270\n",
      "Epoch 6/20\n",
      "32/32 [==============================] - 0s 4ms/step - loss: 0.6879 - accuracy: 0.5470\n",
      "Epoch 7/20\n",
      "32/32 [==============================] - 0s 5ms/step - loss: 0.6881 - accuracy: 0.5380\n",
      "Epoch 8/20\n",
      "32/32 [==============================] - 0s 10ms/step - loss: 0.6870 - accuracy: 0.5440\n",
      "Epoch 9/20\n",
      "32/32 [==============================] - 0s 10ms/step - loss: 0.6862 - accuracy: 0.5500\n",
      "Epoch 10/20\n",
      "32/32 [==============================] - 0s 9ms/step - loss: 0.6869 - accuracy: 0.5500\n",
      "Epoch 11/20\n",
      "32/32 [==============================] - 0s 8ms/step - loss: 0.6853 - accuracy: 0.5640\n",
      "Epoch 12/20\n",
      "32/32 [==============================] - 0s 10ms/step - loss: 0.6854 - accuracy: 0.5570\n",
      "Epoch 13/20\n",
      "32/32 [==============================] - 0s 6ms/step - loss: 0.6853 - accuracy: 0.5630\n",
      "Epoch 14/20\n",
      "32/32 [==============================] - 0s 8ms/step - loss: 0.6849 - accuracy: 0.5500\n",
      "Epoch 15/20\n",
      "32/32 [==============================] - 0s 5ms/step - loss: 0.6844 - accuracy: 0.5510\n",
      "Epoch 16/20\n",
      "32/32 [==============================] - 0s 8ms/step - loss: 0.6841 - accuracy: 0.5560\n",
      "Epoch 17/20\n",
      "32/32 [==============================] - 0s 5ms/step - loss: 0.6835 - accuracy: 0.5420\n",
      "Epoch 18/20\n",
      "32/32 [==============================] - 0s 6ms/step - loss: 0.6830 - accuracy: 0.5700\n",
      "Epoch 19/20\n",
      "32/32 [==============================] - 0s 7ms/step - loss: 0.6839 - accuracy: 0.5540\n",
      "Epoch 20/20\n",
      "32/32 [==============================] - 0s 5ms/step - loss: 0.6836 - accuracy: 0.5500\n",
      "4/4 [==============================] - 0s 5ms/step - loss: 0.6890 - accuracy: 0.5700\n",
      "Test loss: 0.6890243291854858\n",
      "Test accuracy: 0.5699999928474426\n"
     ]
    }
   ],
   "source": [
    "import numpy as np\n",
    "from keras.models import Sequential\n",
    "from keras.layers import Dense\n",
    "\n",
    "# Generate some toy data\n",
    "x_train = np.random.random((1000, 10))\n",
    "y_train = np.random.randint(2, size=(1000, 1))\n",
    "\n",
    "# Define the model architecture\n",
    "model = Sequential()\n",
    "model.add(Dense(32, activation='relu', input_dim=10))\n",
    "model.add(Dense(1, activation='sigmoid'))\n",
    "\n",
    "# Compile the model\n",
    "model.compile(optimizer='rmsprop',\n",
    "              loss='binary_crossentropy',\n",
    "              metrics=['accuracy'])\n",
    "\n",
    "# Train the model\n",
    "model.fit(x_train, y_train, epochs=20, batch_size=32)\n",
    "\n",
    "# Evaluate the model\n",
    "x_test = np.random.random((100, 10))\n",
    "y_test = np.random.randint(2, size=(100, 1))\n",
    "loss, accuracy = model.evaluate(x_test, y_test)\n",
    "print(f'Test loss: {loss}')\n",
    "print(f'Test accuracy: {accuracy}')\n"
   ]
  }
 ],
 "metadata": {
  "kernelspec": {
   "display_name": "Python 3",
   "language": "python",
   "name": "python3"
  },
  "language_info": {
   "codemirror_mode": {
    "name": "ipython",
    "version": 3
   },
   "file_extension": ".py",
   "mimetype": "text/x-python",
   "name": "python",
   "nbconvert_exporter": "python",
   "pygments_lexer": "ipython3",
   "version": "3.11.3"
  },
  "orig_nbformat": 4
 },
 "nbformat": 4,
 "nbformat_minor": 2
}
